{
 "cells": [
  {
   "cell_type": "markdown",
   "metadata": {},
   "source": [
    "# Exercise 6\n",
    "\n",
    "For this exercise you can use either Python with sklearn or Weka.\n",
    "\n",
    "- Using the UCI mushroom dataset from the last exercise, perform a feature selection using a classifier evaluator. Which features are most discriminitave?\n",
    "- Use principal components analysis to construct a reduced space. Which combination of features explain the most variance in the dataset?\n",
    "- Do you see any overlap between the PCA features and those obtained from feature selection?"
   ]
  },
  {
   "cell_type": "code",
   "execution_count": 5,
   "metadata": {},
   "outputs": [
    {
     "name": "stdout",
     "output_type": "stream",
     "text": [
      "(8124, 117)\n",
      "(8124, 2)\n",
      "skb shape: (8124, 5)\n",
      "\n",
      "List of Top 5 Most Discriminative Features:\n",
      "- odor_f\n",
      "- odor_n\n",
      "- gill-color_b\n",
      "- stalk-surface-above-ring_k\n",
      "- stalk-surface-below-ring_k\n"
     ]
    }
   ],
   "source": [
    "from sklearn.feature_selection import SelectKBest\n",
    "from sklearn.feature_selection import chi2\n",
    "import numpy as np\n",
    "import pandas as pd\n",
    "\n",
    "# Load dataset\n",
    "mushroom_dataset = pd.read_csv('agaricus-lepiota.data')\n",
    "\n",
    "# Map 'cap_shape' to numerical values (assuming it's categorical like 'edibility')\n",
    "# We use this as our new target variable for classification\n",
    "y = pd.get_dummies(mushroom_dataset['edibility'])\n",
    "\n",
    "# Drop the 'edibility' column to prepare the feature matrix X\n",
    "X = mushroom_dataset.drop(['edibility'], axis=1)\n",
    "\n",
    "# Convert categorical variables into dummy variables\n",
    "X = pd.get_dummies(X)\n",
    "\n",
    "# You may need to remove other one-hot encoded columns related to 'cap_shape'\n",
    "\n",
    "print(X.shape)\n",
    "print(y.shape)\n",
    "\n",
    "# Perform feature selection using chi-squared test and SelectKBest\n",
    "skb = SelectKBest(chi2, k=5)\n",
    "skb.fit(X, y)\n",
    "X_new = skb.transform(X)\n",
    "\n",
    "print(\"skb shape:\", X_new.shape)\n",
    "\n",
    "# Extract and print names of selected features\n",
    "feature_mask = skb.get_support()\n",
    "selected_features = X.columns[feature_mask]\n",
    "print()\n",
    "print(\"List of Top 5 Most Discriminative Features:\")\n",
    "for feature in selected_features:\n",
    "    print(f\"- {feature}\")\n"
   ]
  },
  {
   "cell_type": "code",
   "execution_count": 6,
   "metadata": {},
   "outputs": [
    {
     "name": "stdout",
     "output_type": "stream",
     "text": [
      "Original space: (8124, 117)\n",
      "PCA space: (8124, 5)\n",
      "- bruises?_f\n",
      "- spore-print-color_h\n",
      "- habitat_g\n",
      "- stalk-shape_t\n",
      "- odor_n\n"
     ]
    }
   ],
   "source": [
    "# Code source: Gaël Varoquaux\n",
    "# License: BSD 3 clause\n",
    "\n",
    "import numpy as np\n",
    "import matplotlib.pyplot as plt\n",
    "from mpl_toolkits.mplot3d import Axes3D\n",
    "\n",
    "from sklearn import decomposition\n",
    "from sklearn import datasets\n",
    "\n",
    "centers = [[1, 1], [-1, -1], [1, -1]]\n",
    "\n",
    "print(\"Original space:\",X.shape)\n",
    "pca = decomposition.PCA(n_components=5)\n",
    "pca.fit(X)\n",
    "Xpca = pca.transform(X)\n",
    "\n",
    "print(\"PCA space:\",Xpca.shape)\n",
    "\n",
    "most_contributing_features = []\n",
    "\n",
    "for component in pca.components_:\n",
    "    feature_index = np.argmax(component)\n",
    "    most_contributing_features.append(X.columns[feature_index])\n",
    "    \n",
    "for feature in most_contributing_features:\n",
    "    print(f\"- {feature}\")"
   ]
  },
  {
   "cell_type": "code",
   "execution_count": 7,
   "metadata": {},
   "outputs": [
    {
     "name": "stdout",
     "output_type": "stream",
     "text": [
      "Overlapping features:\n",
      "- odor_n\n"
     ]
    }
   ],
   "source": [
    "overlap_features = selected_features.intersection(most_contributing_features)\n",
    "\n",
    "print(\"Overlapping features:\")\n",
    "for feature in overlap_features:\n",
    "    print(f\"- {feature}\")\n"
   ]
  },
  {
   "cell_type": "code",
   "execution_count": null,
   "metadata": {},
   "outputs": [],
   "source": []
  }
 ],
 "metadata": {
  "kernelspec": {
   "display_name": "Python 3 (ipykernel)",
   "language": "python",
   "name": "python3"
  },
  "language_info": {
   "codemirror_mode": {
    "name": "ipython",
    "version": 3
   },
   "file_extension": ".py",
   "mimetype": "text/x-python",
   "name": "python",
   "nbconvert_exporter": "python",
   "pygments_lexer": "ipython3",
   "version": "3.10.8"
  }
 },
 "nbformat": 4,
 "nbformat_minor": 4
}
